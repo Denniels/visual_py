{
 "cells": [
  {
   "cell_type": "markdown",
   "id": "fc2e9189",
   "metadata": {},
   "source": [
    "# 🍷 Wine Quality ML Dashboard - Análisis de Clustering\n",
    "\n",
    "---\n",
    "\n",
    "**Autor:** Daniel Mardones  \n",
    "**Proyecto:** Visualización y Machine Learning aplicado a la calidad del vino\n",
    "\n",
    "\n",
    "\n",
    "## Descripción\n",
    "\n",
    "Este notebook presenta un análisis completo de clustering sobre el dataset de calidad de vino. Se exploran técnicas de Machine Learning y se muestran las capacidades de las principales librerías de visualización en Python: Matplotlib, Seaborn, Plotly y Altair.\n",
    "\n",
    "## Objetivos\n",
    "\n",
    "- Realizar un análisis exploratorio detallado (EDA) del dataset.\n",
    "- Aplicar modelos de clustering y evaluar su desempeño.\n",
    "- Visualizar los datos y resultados con diferentes librerías gráficas.\n",
    "- Extraer insights y recomendaciones para el negocio vitivinícola.\n",
    "\n",
    "## Estructura\n",
    "\n",
    "1. Introducción y contexto del problema.\n",
    "2. EDA: exploración y visualización de datos.\n",
    "3. Modelado de clustering.\n",
    "4. Visualización de resultados.\n",
    "5. Interpretación, insights y recomendaciones.\n",
    "\n",
    "---\n",
    "\n",
    "¡Comencemos!"
   ]
  },
  {
   "cell_type": "code",
   "execution_count": 7,
   "id": "634b4ec4",
   "metadata": {},
   "outputs": [],
   "source": [
    "# Importar librerías\n",
    "import pandas as pd\n",
    "from sklearn.cluster import KMeans\n",
    "from sklearn.preprocessing import StandardScaler"
   ]
  },
  {
   "cell_type": "code",
   "execution_count": 8,
   "id": "f79d5c79",
   "metadata": {},
   "outputs": [
    {
     "data": {
      "application/vnd.microsoft.datawrangler.viewer.v0+json": {
       "columns": [
        {
         "name": "index",
         "rawType": "int64",
         "type": "integer"
        },
        {
         "name": "fixed acidity",
         "rawType": "float64",
         "type": "float"
        },
        {
         "name": "volatile acidity",
         "rawType": "float64",
         "type": "float"
        },
        {
         "name": "citric acid",
         "rawType": "float64",
         "type": "float"
        },
        {
         "name": "residual sugar",
         "rawType": "float64",
         "type": "float"
        },
        {
         "name": "chlorides",
         "rawType": "float64",
         "type": "float"
        },
        {
         "name": "free sulfur dioxide",
         "rawType": "float64",
         "type": "float"
        },
        {
         "name": "total sulfur dioxide",
         "rawType": "float64",
         "type": "float"
        },
        {
         "name": "density",
         "rawType": "float64",
         "type": "float"
        },
        {
         "name": "pH",
         "rawType": "float64",
         "type": "float"
        },
        {
         "name": "sulphates",
         "rawType": "float64",
         "type": "float"
        },
        {
         "name": "alcohol",
         "rawType": "float64",
         "type": "float"
        },
        {
         "name": "quality",
         "rawType": "int64",
         "type": "integer"
        },
        {
         "name": "Id",
         "rawType": "int64",
         "type": "integer"
        }
       ],
       "ref": "0fafc0fd-74a1-4c50-a070-120338f5c6df",
       "rows": [
        [
         "0",
         "7.4",
         "0.7",
         "0.0",
         "1.9",
         "0.076",
         "11.0",
         "34.0",
         "0.9978",
         "3.51",
         "0.56",
         "9.4",
         "5",
         "0"
        ],
        [
         "1",
         "7.8",
         "0.88",
         "0.0",
         "2.6",
         "0.098",
         "25.0",
         "67.0",
         "0.9968",
         "3.2",
         "0.68",
         "9.8",
         "5",
         "1"
        ],
        [
         "2",
         "7.8",
         "0.76",
         "0.04",
         "2.3",
         "0.092",
         "15.0",
         "54.0",
         "0.997",
         "3.26",
         "0.65",
         "9.8",
         "5",
         "2"
        ],
        [
         "3",
         "11.2",
         "0.28",
         "0.56",
         "1.9",
         "0.075",
         "17.0",
         "60.0",
         "0.998",
         "3.16",
         "0.58",
         "9.8",
         "6",
         "3"
        ],
        [
         "4",
         "7.4",
         "0.7",
         "0.0",
         "1.9",
         "0.076",
         "11.0",
         "34.0",
         "0.9978",
         "3.51",
         "0.56",
         "9.4",
         "5",
         "4"
        ]
       ],
       "shape": {
        "columns": 13,
        "rows": 5
       }
      },
      "text/html": [
       "<div>\n",
       "<style scoped>\n",
       "    .dataframe tbody tr th:only-of-type {\n",
       "        vertical-align: middle;\n",
       "    }\n",
       "\n",
       "    .dataframe tbody tr th {\n",
       "        vertical-align: top;\n",
       "    }\n",
       "\n",
       "    .dataframe thead th {\n",
       "        text-align: right;\n",
       "    }\n",
       "</style>\n",
       "<table border=\"1\" class=\"dataframe\">\n",
       "  <thead>\n",
       "    <tr style=\"text-align: right;\">\n",
       "      <th></th>\n",
       "      <th>fixed acidity</th>\n",
       "      <th>volatile acidity</th>\n",
       "      <th>citric acid</th>\n",
       "      <th>residual sugar</th>\n",
       "      <th>chlorides</th>\n",
       "      <th>free sulfur dioxide</th>\n",
       "      <th>total sulfur dioxide</th>\n",
       "      <th>density</th>\n",
       "      <th>pH</th>\n",
       "      <th>sulphates</th>\n",
       "      <th>alcohol</th>\n",
       "      <th>quality</th>\n",
       "      <th>Id</th>\n",
       "    </tr>\n",
       "  </thead>\n",
       "  <tbody>\n",
       "    <tr>\n",
       "      <th>0</th>\n",
       "      <td>7.4</td>\n",
       "      <td>0.70</td>\n",
       "      <td>0.00</td>\n",
       "      <td>1.9</td>\n",
       "      <td>0.076</td>\n",
       "      <td>11.0</td>\n",
       "      <td>34.0</td>\n",
       "      <td>0.9978</td>\n",
       "      <td>3.51</td>\n",
       "      <td>0.56</td>\n",
       "      <td>9.4</td>\n",
       "      <td>5</td>\n",
       "      <td>0</td>\n",
       "    </tr>\n",
       "    <tr>\n",
       "      <th>1</th>\n",
       "      <td>7.8</td>\n",
       "      <td>0.88</td>\n",
       "      <td>0.00</td>\n",
       "      <td>2.6</td>\n",
       "      <td>0.098</td>\n",
       "      <td>25.0</td>\n",
       "      <td>67.0</td>\n",
       "      <td>0.9968</td>\n",
       "      <td>3.20</td>\n",
       "      <td>0.68</td>\n",
       "      <td>9.8</td>\n",
       "      <td>5</td>\n",
       "      <td>1</td>\n",
       "    </tr>\n",
       "    <tr>\n",
       "      <th>2</th>\n",
       "      <td>7.8</td>\n",
       "      <td>0.76</td>\n",
       "      <td>0.04</td>\n",
       "      <td>2.3</td>\n",
       "      <td>0.092</td>\n",
       "      <td>15.0</td>\n",
       "      <td>54.0</td>\n",
       "      <td>0.9970</td>\n",
       "      <td>3.26</td>\n",
       "      <td>0.65</td>\n",
       "      <td>9.8</td>\n",
       "      <td>5</td>\n",
       "      <td>2</td>\n",
       "    </tr>\n",
       "    <tr>\n",
       "      <th>3</th>\n",
       "      <td>11.2</td>\n",
       "      <td>0.28</td>\n",
       "      <td>0.56</td>\n",
       "      <td>1.9</td>\n",
       "      <td>0.075</td>\n",
       "      <td>17.0</td>\n",
       "      <td>60.0</td>\n",
       "      <td>0.9980</td>\n",
       "      <td>3.16</td>\n",
       "      <td>0.58</td>\n",
       "      <td>9.8</td>\n",
       "      <td>6</td>\n",
       "      <td>3</td>\n",
       "    </tr>\n",
       "    <tr>\n",
       "      <th>4</th>\n",
       "      <td>7.4</td>\n",
       "      <td>0.70</td>\n",
       "      <td>0.00</td>\n",
       "      <td>1.9</td>\n",
       "      <td>0.076</td>\n",
       "      <td>11.0</td>\n",
       "      <td>34.0</td>\n",
       "      <td>0.9978</td>\n",
       "      <td>3.51</td>\n",
       "      <td>0.56</td>\n",
       "      <td>9.4</td>\n",
       "      <td>5</td>\n",
       "      <td>4</td>\n",
       "    </tr>\n",
       "  </tbody>\n",
       "</table>\n",
       "</div>"
      ],
      "text/plain": [
       "   fixed acidity  volatile acidity  citric acid  residual sugar  chlorides  \\\n",
       "0            7.4              0.70         0.00             1.9      0.076   \n",
       "1            7.8              0.88         0.00             2.6      0.098   \n",
       "2            7.8              0.76         0.04             2.3      0.092   \n",
       "3           11.2              0.28         0.56             1.9      0.075   \n",
       "4            7.4              0.70         0.00             1.9      0.076   \n",
       "\n",
       "   free sulfur dioxide  total sulfur dioxide  density    pH  sulphates  \\\n",
       "0                 11.0                  34.0   0.9978  3.51       0.56   \n",
       "1                 25.0                  67.0   0.9968  3.20       0.68   \n",
       "2                 15.0                  54.0   0.9970  3.26       0.65   \n",
       "3                 17.0                  60.0   0.9980  3.16       0.58   \n",
       "4                 11.0                  34.0   0.9978  3.51       0.56   \n",
       "\n",
       "   alcohol  quality  Id  \n",
       "0      9.4        5   0  \n",
       "1      9.8        5   1  \n",
       "2      9.8        5   2  \n",
       "3      9.8        6   3  \n",
       "4      9.4        5   4  "
      ]
     },
     "execution_count": 8,
     "metadata": {},
     "output_type": "execute_result"
    }
   ],
   "source": [
    "# Cargar datos\n",
    "df = pd.read_csv('../data/WineQT.csv')\n",
    "df.head()"
   ]
  },
  {
   "cell_type": "code",
   "execution_count": 9,
   "id": "996d31f2",
   "metadata": {},
   "outputs": [],
   "source": [
    "# Preprocesamiento\n",
    "scaler = StandardScaler()\n",
    "X_scaled = scaler.fit_transform(df.drop('quality', axis=1))"
   ]
  },
  {
   "cell_type": "code",
   "execution_count": 10,
   "id": "8793f246",
   "metadata": {},
   "outputs": [],
   "source": [
    "# Clustering\n",
    "kmeans = KMeans(n_clusters=3, random_state=42)\n",
    "clusters = kmeans.fit_predict(X_scaled)\n",
    "df['cluster'] = clusters"
   ]
  },
  {
   "cell_type": "code",
   "execution_count": 11,
   "id": "ba6791bc",
   "metadata": {},
   "outputs": [],
   "source": [
    "# Exportar resultados para Streamlit Cloud\n",
    "import json\n",
    "resultados = {\n",
    "    'modelo': 'KMeans',\n",
    "    'clusters': clusters.tolist()\n",
    "}\n",
    "with open('../utils/clustering_results.json', 'w') as f:\n",
    "    json.dump(resultados, f, indent=2)"
   ]
  },
  {
   "cell_type": "markdown",
   "id": "7d38bab3",
   "metadata": {},
   "source": [
    "# Análisis Exploratorio de Datos (EDA)\n",
    "\n",
    "En esta sección se exploran las características principales del dataset, se identifican valores nulos, se analizan distribuciones y correlaciones, y se generan visualizaciones con distintas librerías para destacar sus fortalezas.\n",
    "\n",
    "## Mejorando las Visualizaciones\n",
    "\n",
    "Para enriquecer el análisis, se pueden agregar gráficos circulares (pie charts), gráficos de barras comparativos y visualizaciones avanzadas que ayuden a entender la composición y distribución de las variables clave del dataset."
   ]
  },
  {
   "cell_type": "code",
   "execution_count": 12,
   "id": "b2eb02f1",
   "metadata": {},
   "outputs": [
    {
     "data": {
      "image/png": "[encoded data removed]",
      "text/plain": [
       "<Figure size 800x800 with 1 Axes>"
      ]
     },
     "metadata": {},
     "output_type": "display_data"
    },
    {
     "data": {
      "image/png": "[encoded data removed]",
      "text/plain": [
       "<Figure size 1000x600 with 1 Axes>"
      ]
     },
     "metadata": {},
     "output_type": "display_data"
    }
   ],
   "source": [
    "import matplotlib.pyplot as plt\n",
    "# Gráfico circular de proporción de clusters\n",
    "cluster_counts = df['cluster'].value_counts().sort_index()\n",
    "plt.figure(figsize=(8,8))\n",
    "plt.pie(cluster_counts, labels=[f'Cluster {i}' for i in cluster_counts.index], autopct='%1.1f%%', startangle=140, colors=plt.cm.Paired.colors)\n",
    "plt.title('Proporción de clusters de vino')\n",
    "plt.show()\n",
    "\n",
    "# Gráfico de barras comparativo de medias de variables químicas por cluster\n",
    "variables_quimicas = ['alcohol', 'sulphates', 'volatile acidity', 'citric acid']\n",
    "medias = df.groupby('cluster')[variables_quimicas].mean()\n",
    "medias.plot(kind='bar', figsize=(10,6))\n",
    "plt.title('Medias de variables químicas por cluster de vino')\n",
    "plt.xlabel('Cluster')\n",
    "plt.ylabel('Media')\n",
    "plt.legend(title='Variable química')\n",
    "plt.tight_layout()\n",
    "plt.show()"
   ]
  },
  {
   "cell_type": "markdown",
   "id": "93e1c6df",
   "metadata": {},
   "source": [
    "## Visualización de Clusters: Gráficos de Dispersión\n",
    "\n",
    "Los gráficos de dispersión permiten observar cómo se agrupan los datos en los diferentes clusters y entender la separación entre ellos. Son útiles para validar la calidad del agrupamiento y detectar patrones o anomalías."
   ]
  },
  {
   "cell_type": "code",
   "execution_count": 13,
   "id": "0d78a477",
   "metadata": {},
   "outputs": [
    {
     "data": {
      "image/png": "[encoded data removed]",
      "text/plain": [
       "<Figure size 1000x600 with 1 Axes>"
      ]
     },
     "metadata": {},
     "output_type": "display_data"
    },
    {
     "data": {
      "application/vnd.plotly.v1+json": {
       "config": {
        "plotlyServerURL": "https://plot.ly"
       },
       "data": [
        {
         "hovertemplate": "alcohol=%{x}<br>quality=%{y}<br>Cluster=%{marker.color}<extra></extra>",
         "legendgroup": "",
         "marker": {
          "color": {
           "bdata": "AgAAAAAAAAACAAAAAQAAAAIAAAACAAAAAgAAAAIAAAACAAAAAgAAAAIAAAABAAAAAAAAAAAAAAAAAAAAAQAAAAAAAAACAAAAAgAAAAIAAAACAAAAAgAAAAIAAAAAAAAAAgAAAAIAAAACAAAAAQAAAAAAAAAAAAAAAAAAAAEAAAACAAAAAAAAAAEAAAACAAAAAgAAAAAAAAAAAAAAAQAAAAIAAAACAAAAAAAAAAAAAAACAAAAAgAAAAIAAAACAAAAAgAAAAAAAAACAAAAAQAAAAIAAAACAAAAAAAAAAIAAAAAAAAAAAAAAAIAAAAAAAAAAgAAAAAAAAACAAAAAAAAAAAAAAACAAAAAgAAAAIAAAACAAAAAgAAAAIAAAACAAAAAAAAAAIAAAAAAAAAAAAAAAIAAAAAAAAAAAAAAAEAAAAAAAAAAQAAAAIAAAAAAAAAAgAAAAIAAAAAAAAAAgAAAAIAAAACAAAAAAAAAAIAAAACAAAAAAAAAAIAAAAAAAAAAgAAAAIAAAACAAAAAAAAAAIAAAACAAAAAQAAAAAAAAAAAAAAAAAAAAAAAAAAAAAAAAAAAAIAAAACAAAAAgAAAAIAAAACAAAAAAAAAAAAAAAAAAAAAAAAAAIAAAACAAAAAgAAAAIAAAACAAAAAgAAAAIAAAACAAAAAgAAAAIAAAACAAAAAAAAAAIAAAACAAAAAgAAAAAAAAAAAAAAAAAAAAAAAAACAAAAAgAAAAIAAAACAAAAAQAAAAIAAAABAAAAAgAAAAEAAAABAAAAAAAAAAEAAAACAAAAAAAAAAIAAAAAAAAAAgAAAAIAAAACAAAAAAAAAAAAAAACAAAAAgAAAAAAAAAAAAAAAgAAAAIAAAAAAAAAAgAAAAIAAAAAAAAAAQAAAAAAAAABAAAAAQAAAAIAAAACAAAAAgAAAAEAAAACAAAAAQAAAAAAAAAAAAAAAQAAAAIAAAAAAAAAAQAAAAAAAAACAAAAAgAAAAAAAAABAAAAAAAAAAEAAAACAAAAAQAAAAAAAAAAAAAAAgAAAAEAAAABAAAAAQAAAAEAAAABAAAAAQAAAAAAAAAAAAAAAQAAAAAAAAAAAAAAAAAAAAAAAAABAAAAAgAAAAEAAAABAAAAAAAAAAIAAAACAAAAAgAAAAEAAAACAAAAAAAAAAIAAAABAAAAAQAAAAAAAAAAAAAAAAAAAAAAAAAAAAAAAAAAAAAAAAAAAAAAAAAAAAEAAAABAAAAAQAAAAIAAAACAAAAAQAAAAEAAAAAAAAAAQAAAAEAAAABAAAAAQAAAAEAAAABAAAAAgAAAAIAAAABAAAAAAAAAAIAAAABAAAAAQAAAAEAAAABAAAAAAAAAAAAAAABAAAAAQAAAAEAAAABAAAAAQAAAAEAAAABAAAAAQAAAAEAAAABAAAAAQAAAAEAAAAAAAAAAAAAAAIAAAABAAAAAQAAAAEAAAAAAAAAAQAAAAIAAAAAAAAAAQAAAAEAAAACAAAAAQAAAAEAAAABAAAAAAAAAAAAAAABAAAAAAAAAAAAAAABAAAAAAAAAAEAAAACAAAAAgAAAAIAAAABAAAAAgAAAAIAAAACAAAAAQAAAAEAAAABAAAAAAAAAAEAAAABAAAAAQAAAAAAAAABAAAAAgAAAAEAAAABAAAAAgAAAAEAAAABAAAAAgAAAAEAAAABAAAAAgAAAAEAAAACAAAAAQAAAAEAAAAAAAAAAQAAAAEAAAACAAAAAQAAAAEAAAABAAAAAQAAAAIAAAABAAAAAQAAAAEAAAABAAAAAQAAAAEAAAABAAAAAQAAAAEAAAABAAAAAQAAAAEAAAABAAAAAQAAAAEAAAAAAAAAAAAAAAEAAAACAAAAAAAAAAEAAAAAAAAAAgAAAAAAAAAAAAAAAQAAAAEAAAABAAAAAQAAAAEAAAAAAAAAAQAAAAEAAAABAAAAAAAAAAEAAAABAAAAAQAAAAAAAAAAAAAAAAAAAAEAAAABAAAAAQAAAAEAAAABAAAAAQAAAAEAAAABAAAAAgAAAAEAAAABAAAAAAAAAAEAAAABAAAAAQAAAAEAAAAAAAAAAgAAAAEAAAABAAAAAgAAAAEAAAABAAAAAgAAAAEAAAABAAAAAQAAAAEAAAABAAAAAAAAAAAAAAABAAAAAQAAAAAAAAABAAAAAgAAAAEAAAABAAAAAQAAAAAAAAAAAAAAAQAAAAEAAAABAAAAAQAAAAAAAAACAAAAAAAAAAAAAAAAAAAAAQAAAAAAAAABAAAAAgAAAAIAAAAAAAAAAAAAAAAAAAACAAAAAAAAAAEAAAACAAAAAAAAAAEAAAABAAAAAAAAAAAAAAABAAAAAAAAAAIAAAACAAAAAgAAAAAAAAACAAAAAQAAAAIAAAAAAAAAAAAAAAIAAAAAAAAAAAAAAAEAAAABAAAAAQAAAAEAAAACAAAAAQAAAAAAAAABAAAAAQAAAAEAAAABAAAAAAAAAAEAAAABAAAAAgAAAAIAAAAAAAAAAgAAAAAAAAABAAAAAQAAAAEAAAACAAAAAgAAAAEAAAACAAAAAAAAAAEAAAACAAAAAAAAAAIAAAAAAAAAAgAAAAIAAAABAAAAAAAAAAAAAAAAAAAAAAAAAAIAAAACAAAAAAAAAAEAAAAAAAAAAgAAAAIAAAAAAAAAAgAAAAIAAAACAAAAAgAAAAIAAAAAAAAAAAAAAAAAAAACAAAAAgAAAAIAAAACAAAAAAAAAAAAAAACAAAAAgAAAAIAAAACAAAAAgAAAAAAAAACAAAAAgAAAAAAAAACAAAAAgAAAAIAAAACAAAAAgAAAAAAAAAAAAAAAgAAAAAAAAACAAAAAgAAAAIAAAAAAAAAAgAAAAAAAAACAAAAAgAAAAIAAAACAAAAAAAAAAAAAAACAAAAAgAAAAIAAAACAAAAAAAAAAIAAAACAAAAAgAAAAAAAAAAAAAAAQAAAAIAAAACAAAAAQAAAAIAAAACAAAAAgAAAAIAAAABAAAAAAAAAAAAAAAAAAAAAAAAAAAAAAACAAAAAgAAAAEAAAABAAAAAAAAAAEAAAABAAAAAgAAAAIAAAACAAAAAgAAAAEAAAACAAAAAgAAAAIAAAABAAAAAgAAAAEAAAAAAAAAAgAAAAIAAAACAAAAAgAAAAIAAAACAAAAAgAAAAIAAAAAAAAAAgAAAAIAAAABAAAAAgAAAAAAAAAAAAAAAgAAAAIAAAACAAAAAQAAAAEAAAAAAAAAAAAAAAAAAAABAAAAAQAAAAIAAAACAAAAAgAAAAIAAAACAAAAAgAAAAEAAAACAAAAAgAAAAEAAAAAAAAAAgAAAAIAAAACAAAAAAAAAAIAAAABAAAAAgAAAAIAAAACAAAAAQAAAAIAAAABAAAAAQAAAAIAAAACAAAAAgAAAAIAAAACAAAAAgAAAAEAAAABAAAAAQAAAAEAAAACAAAAAAAAAAAAAAACAAAAAQAAAAIAAAABAAAAAAAAAAAAAAAAAAAAAQAAAAEAAAACAAAAAAAAAAIAAAABAAAAAgAAAAEAAAABAAAAAQAAAAEAAAABAAAAAQAAAAEAAAABAAAAAQAAAAEAAAABAAAAAQAAAAIAAAABAAAAAgAAAAIAAAABAAAAAAAAAAEAAAABAAAAAQAAAAAAAAAAAAAAAgAAAAEAAAACAAAAAAAAAAEAAAACAAAAAAAAAAIAAAABAAAAAgAAAAAAAAAAAAAAAgAAAAIAAAACAAAAAgAAAAAAAAACAAAAAQAAAAEAAAABAAAAAQAAAAEAAAACAAAAAgAAAAIAAAABAAAAAAAAAAIAAAABAAAAAQAAAAIAAAABAAAAAgAAAAIAAAACAAAAAgAAAAIAAAACAAAAAgAAAAEAAAACAAAAAQAAAAIAAAACAAAAAgAAAAIAAAACAAAAAgAAAAEAAAABAAAAAAAAAAIAAAABAAAAAAAAAAEAAAAAAAAAAQAAAAEAAAABAAAAAQAAAAEAAAABAAAAAgAAAAIAAAACAAAAAQAAAAAAAAABAAAAAAAAAAIAAAABAAAAAQAAAAAAAAAAAAAAAAAAAAAAAAAAAAAAAQAAAAEAAAABAAAAAQAAAAAAAAABAAAAAgAAAAEAAAACAAAAAgAAAAEAAAABAAAAAgAAAAIAAAACAAAAAgAAAAEAAAACAAAAAAAAAAIAAAACAAAAAQAAAAIAAAACAAAAAgAAAAIAAAACAAAAAgAAAAIAAAACAAAAAQAAAAIAAAAAAAAAAgAAAAIAAAACAAAAAQAAAAIAAAABAAAAAAAAAAAAAAAAAAAAAAAAAAIAAAACAAAAAAAAAAAAAAACAAAAAQAAAAIAAAABAAAAAgAAAAIAAAABAAAAAgAAAAAAAAACAAAAAQAAAAIAAAABAAAAAgAAAAIAAAABAAAAAQAAAAAAAAAAAAAAAgAAAAIAAAACAAAAAQAAAAEAAAACAAAAAgAAAAIAAAACAAAAAQAAAAIAAAACAAAAAgAAAAIAAAACAAAAAAAAAAAAAAACAAAAAgAAAAEAAAAAAAAAAgAAAAIAAAAAAAAAAgAAAAIAAAACAAAAAgAAAAEAAAAAAAAAAQAAAAEAAAABAAAAAQAAAAAAAAAAAAAAAgAAAAIAAAAAAAAAAQAAAAAAAAAAAAAAAgAAAAIAAAACAAAAAgAAAAIAAAAAAAAAAAAAAAIAAAACAAAAAgAAAAIAAAACAAAAAgAAAAIAAAAAAAAAAgAAAAIAAAAAAAAAAgAAAAAAAAACAAAAAgAAAAIAAAABAAAAAgAAAAIAAAACAAAAAgAAAAAAAAACAAAAAAAAAAEAAAACAAAAAAAAAAEAAAACAAAAAgAAAAIAAAAAAAAAAgAAAAEAAAAAAAAAAAAAAAIAAAACAAAAAgAAAAAAAAACAAAAAgAAAAIAAAACAAAAAgAAAAEAAAAAAAAAAAAAAAAAAAACAAAAAgAAAAIAAAAAAAAAAgAAAAAAAAACAAAAAQAAAAIAAAACAAAAAgAAAAIAAAACAAAAAAAAAAAAAAAAAAAAAgAAAAIAAAACAAAAAgAAAAIAAAACAAAAAgAAAAIAAAACAAAAAgAAAAIAAAABAAAAAgAAAAIAAAACAAAAAgAAAAIAAAACAAAAAgAAAAIAAAAAAAAAAQAAAAIAAAABAAAAAgAAAAIAAAAAAAAAAgAAAAAAAAABAAAAAAAAAAIAAAACAAAAAgAAAAIAAAAAAAAAAAAAAAAAAAAAAAAAAgAAAAIAAAACAAAAAgAAAAIAAAACAAAAAgAAAAIAAAAAAAAAAgAAAAAAAAABAAAAAQAAAAIAAAABAAAAAgAAAAEAAAACAAAAAgAAAAIAAAABAAAAAAAAAAEAAAACAAAAAQAAAAIAAAACAAAAAAAAAAIAAAACAAAAAgAAAAIAAAACAAAAAgAAAAAAAAACAAAAAgAAAAIAAAAAAAAAAAAAAAIAAAACAAAAAgAAAAIAAAAAAAAAAgAAAAIAAAACAAAAAQAAAAIAAAABAAAAAgAAAAAAAAABAAAAAQAAAAIAAAACAAAAAgAAAAIAAAAAAAAAAgAAAAAAAAACAAAAAgAAAAIAAAABAAAAAgAAAAAAAAACAAAAAAAAAAIAAAACAAAAAQAAAAIAAAABAAAAAQAAAAIAAAACAAAAAgAAAAIAAAACAAAAAgAAAAAAAAACAAAAAgAAAAIAAAACAAAAAAAAAAIAAAABAAAAAgAAAAIAAAABAAAAAQAAAAEAAAACAAAAAgAAAAIAAAACAAAAAgAAAAIAAAACAAAAAgAAAAIAAAACAAAAAgAAAAAAAAACAAAAAgAAAAIAAAACAAAAAAAAAAIAAAACAAAAAgAAAAIAAAABAAAAAgAAAAIAAAABAAAAAgAAAAIAAAACAAAAAgAAAAIAAAACAAAAAgAAAAAAAAAAAAAAAAAAAAAAAAACAAAAAgAAAAIAAAABAAAAAgAAAAIAAAACAAAAAgAAAAIAAAAAAAAAAgAAAAIAAAABAAAAAgAAAAIAAAACAAAAAgAAAAAAAAACAAAAAAAAAAIAAAACAAAAAgAAAAIAAAACAAAAAgAAAAIAAAACAAAA",
           "dtype": "i4"
          },
          "coloraxis": "coloraxis",
          "symbol": "circle"
         },
         "mode": "markers",
         "name": "",
         "showlegend": false,
         "type": "scattergl",
         "x": {
          "bdata": "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",
          "dtype": "f8"
         },
         "xaxis": "x",
         "y": {
          "bdata": "BQUFBgUFBQcHBQUFBwYFBQUGBQUFBgUFBQYGBwUEBgUEBQUGBgUGBQUGBQUFBQUFBgUEBQYFBAUFBgUGBQUFBQYFBAUFBgYGBQUFBQUFBQYFBgYFBgUFBQUHBQUGBQUFBgUGBQUGBgQFBQUFBQUGBQQGBQUFBQQGBAYGBQUGBQUFBQUFBgUFBQUGBQUFBgQHBgcHBQYGBQYFBQUFBgUFBgYGBwYGBgYFBgYHBwYFBgYGBQUFBQUFBwUEBQUFBAgGBgYGBgYIBwYHBwUFBgYHBQcGBgYFBQUFBgYFBQUGBgYGBQUHBgUGBgcFBgUHBwYFBwYGBgYGBgUFBgYFBwcGBQYFBQcHBQcGBgYHBgYFBggGBQcFBgUFBgYFBgcEBgUHBQUGBQYFBwUHBwYGBQYHBQUGBQYGBQgHBwUFBgYGBgcFCAUFAwYFBgYGBgUFBgYFBQYGBQgFBQYGBwcGBggGBQgGBgcHBwcHBgcGBgcHBQYDBgUFBgUGBQUGBgYFBgcFBQYFBgYFBgYGBgYGBQUGBQYFBQYGBQYGBgYFBAUFBgUFBwUIBQYFBQUGBgUGBgYGBQUGBQYFBQUFBQUFBgUGBQYEBQUFBQYFBQUEBwYFBQYFBQUHBgYFBgUGBgYFBQYFBQUGBQUFBQUFBQUFBQYGBQYGBgYEBAUFBQYFBQUFBQUFBQUFBgUFBgUFBQUFBQYFBgUFBgYGBgUFBQYGBgUFBQUFBgYGBQYFBgUFBgUGBQUGBQUFBgYFBgUGBQYFBQcGBQcGBgcFBgUGBAYFBQcFBQcFBAYEBwcHBQYFBQYFBQUGBgYHBwUFBQUFBAcGBgYGBQYGBQUGBQYGBwYHBQcHBwUGBgYGBgYFBgYGBQYFBwYEBQcFBgUGBQcHBwcHBwcHBwcFBgcGBQUGBQYGBwUFBwYFBgYGBQUGBQUFBgYGBwUHBwcHBwYFBgYHBgUGBgUGBwYGBQcFBgcHBwYGBgYGBQYGBQUHBgcFBwcGCAYGBgYHBwUHBQYGBQcHBgYFBwYHBwgGBgcGBgUGBgYGBQcFBgYHBgYGBgYGBQgGBwYFBgcHBwYGBQYGBgYGBQYGBwYGBgUGBQcHBwUHBgYGBgYGBgQFBgUFBQUEBgUHBgYGBgYGBwgFBwcFBwcGBgYGBgYGBgUFBQcFBgUFBgYGBAQFBQUFBgUFBQUFBgYFBAUGBgYGBgYGBQUGBgQGBgcGBgYGBQUFBQUGBgUGBgMGBgYFBQUFBgUGBgYGBQYGBgYFBgYFBgUFBgUFBQYGBgYFBgUFBgUFBQYFBgUGBgUGBgUGBQUGBgYFBQUFBQUGBQUFBgUFBgUGCAYGBgcGBgYGBQUFBQcFBQUFBgQFBQUFBgcGBQUFBgUGBQgHBwcGBgUFBwYEBgUHBAcDBQUGBQUHBQcDBQQFBQUFBQUGBQUHBgYGBQYGAwYGBgUGBQYGBgUFBQUFBgYGBgUGBQcGBQYHBgUFCAUGBQcFBgUFBQUFBQYGBQUGBgYFBgYGBgYGBQUHBgYGBgYGBQYF",
          "dtype": "i1"
         },
         "yaxis": "y"
        }
       ],
       "layout": {
        "coloraxis": {
         "colorbar": {
          "title": {
           "text": "Cluster"
          }
         },
         "colorscale": [
          [
           0,
           "#0d0887"
          ],
          [
           0.1111111111111111,
           "#46039f"
          ],
          [
           0.2222222222222222,
           "#7201a8"
          ],
          [
           0.3333333333333333,
           "#9c179e"
          ],
          [
           0.4444444444444444,
           "#bd3786"
          ],
          [
           0.5555555555555556,
           "#d8576b"
          ],
          [
           0.6666666666666666,
           "#ed7953"
          ],
          [
           0.7777777777777778,
           "#fb9f3a"
          ],
          [
           0.8888888888888888,
           "#fdca26"
          ],
          [
           1,
           "#f0f921"
          ]
         ]
        },
        "legend": {
         "tracegroupgap": 0
        },
        "template": {
         "data": {
          "bar": [
           {
            "error_x": {
             "color": "#2a3f5f"
            },
            "error_y": {
             "color": "#2a3f5f"
            },
            "marker": {
             "line": {
              "color": "#E5ECF6",
              "width": 0.5
             },
             "pattern": {
              "fillmode": "overlay",
              "size": 10,
              "solidity": 0.2
             }
            },
            "type": "bar"
           }
          ],
          "barpolar": [
           {
            "marker": {
             "line": {
              "color": "#E5ECF6",
              "width": 0.5
             },
             "pattern": {
              "fillmode": "overlay",
              "size": 10,
              "solidity": 0.2
             }
            },
            "type": "barpolar"
           }
          ],
          "carpet": [
           {
            "aaxis": {
             "endlinecolor": "#2a3f5f",
             "gridcolor": "white",
             "linecolor": "white",
             "minorgridcolor": "white",
             "startlinecolor": "#2a3f5f"
            },
            "baxis": {
             "endlinecolor": "#2a3f5f",
             "gridcolor": "white",
             "linecolor": "white",
             "minorgridcolor": "white",
             "startlinecolor": "#2a3f5f"
            },
            "type": "carpet"
           }
          ],
          "choropleth": [
           {
            "colorbar": {
             "outlinewidth": 0,
             "ticks": ""
            },
            "type": "choropleth"
           }
          ],
          "contour": [
           {
            "colorbar": {
             "outlinewidth": 0,
             "ticks": ""
            },
            "colorscale": [
             [
              0,
              "#0d0887"
             ],
             [
              0.1111111111111111,
              "#46039f"
             ],
             [
              0.2222222222222222,
              "#7201a8"
             ],
             [
              0.3333333333333333,
              "#9c179e"
             ],
             [
              0.4444444444444444,
              "#bd3786"
             ],
             [
              0.5555555555555556,
              "#d8576b"
             ],
             [
              0.6666666666666666,
              "#ed7953"
             ],
             [
              0.7777777777777778,
              "#fb9f3a"
             ],
             [
              0.8888888888888888,
              "#fdca26"
             ],
             [
              1,
              "#f0f921"
             ]
            ],
            "type": "contour"
           }
          ],
          "contourcarpet": [
           {
            "colorbar": {
             "outlinewidth": 0,
             "ticks": ""
            },
            "type": "contourcarpet"
           }
          ],
          "heatmap": [
           {
            "colorbar": {
             "outlinewidth": 0,
             "ticks": ""
            },
            "colorscale": [
             [
              0,
              "#0d0887"
             ],
             [
              0.1111111111111111,
              "#46039f"
             ],
             [
              0.2222222222222222,
              "#7201a8"
             ],
             [
              0.3333333333333333,
              "#9c179e"
             ],
             [
              0.4444444444444444,
              "#bd3786"
             ],
             [
              0.5555555555555556,
              "#d8576b"
             ],
             [
              0.6666666666666666,
              "#ed7953"
             ],
             [
              0.7777777777777778,
              "#fb9f3a"
             ],
             [
              0.8888888888888888,
              "#fdca26"
             ],
             [
              1,
              "#f0f921"
             ]
            ],
            "type": "heatmap"
           }
          ],
          "histogram": [
           {
            "marker": {
             "pattern": {
              "fillmode": "overlay",
              "size": 10,
              "solidity": 0.2
             }
            },
            "type": "histogram"
           }
          ],
          "histogram2d": [
           {
            "colorbar": {
             "outlinewidth": 0,
             "ticks": ""
            },
            "colorscale": [
             [
              0,
              "#0d0887"
             ],
             [
              0.1111111111111111,
              "#46039f"
             ],
             [
              0.2222222222222222,
              "#7201a8"
             ],
             [
              0.3333333333333333,
              "#9c179e"
             ],
             [
              0.4444444444444444,
              "#bd3786"
             ],
             [
              0.5555555555555556,
              "#d8576b"
             ],
             [
              0.6666666666666666,
              "#ed7953"
             ],
             [
              0.7777777777777778,
              "#fb9f3a"
             ],
             [
              0.8888888888888888,
              "#fdca26"
             ],
             [
              1,
              "#f0f921"
             ]
            ],
            "type": "histogram2d"
           }
          ],
          "histogram2dcontour": [
           {
            "colorbar": {
             "outlinewidth": 0,
             "ticks": ""
            },
            "colorscale": [
             [
              0,
              "#0d0887"
             ],
             [
              0.1111111111111111,
              "#46039f"
             ],
             [
              0.2222222222222222,
              "#7201a8"
             ],
             [
              0.3333333333333333,
              "#9c179e"
             ],
             [
              0.4444444444444444,
              "#bd3786"
             ],
             [
              0.5555555555555556,
              "#d8576b"
             ],
             [
              0.6666666666666666,
              "#ed7953"
             ],
             [
              0.7777777777777778,
              "#fb9f3a"
             ],
             [
              0.8888888888888888,
              "#fdca26"
             ],
             [
              1,
              "#f0f921"
             ]
            ],
            "type": "histogram2dcontour"
           }
          ],
          "mesh3d": [
           {
            "colorbar": {
             "outlinewidth": 0,
             "ticks": ""
            },
            "type": "mesh3d"
           }
          ],
          "parcoords": [
           {
            "line": {
             "colorbar": {
              "outlinewidth": 0,
              "ticks": ""
             }
            },
            "type": "parcoords"
           }
          ],
          "pie": [
           {
            "automargin": true,
            "type": "pie"
           }
          ],
          "scatter": [
           {
            "fillpattern": {
             "fillmode": "overlay",
             "size": 10,
             "solidity": 0.2
            },
            "type": "scatter"
           }
          ],
          "scatter3d": [
           {
            "line": {
             "colorbar": {
              "outlinewidth": 0,
              "ticks": ""
             }
            },
            "marker": {
             "colorbar": {
              "outlinewidth": 0,
              "ticks": ""
             }
            },
            "type": "scatter3d"
           }
          ],
          "scattercarpet": [
           {
            "marker": {
             "colorbar": {
              "outlinewidth": 0,
              "ticks": ""
             }
            },
            "type": "scattercarpet"
           }
          ],
          "scattergeo": [
           {
            "marker": {
             "colorbar": {
              "outlinewidth": 0,
              "ticks": ""
             }
            },
            "type": "scattergeo"
           }
          ],
          "scattergl": [
           {
            "marker": {
             "colorbar": {
              "outlinewidth": 0,
              "ticks": ""
             }
            },
            "type": "scattergl"
           }
          ],
          "scattermap": [
           {
            "marker": {
             "colorbar": {
              "outlinewidth": 0,
              "ticks": ""
             }
            },
            "type": "scattermap"
           }
          ],
          "scattermapbox": [
           {
            "marker": {
             "colorbar": {
              "outlinewidth": 0,
              "ticks": ""
             }
            },
            "type": "scattermapbox"
           }
          ],
          "scatterpolar": [
           {
            "marker": {
             "colorbar": {
              "outlinewidth": 0,
              "ticks": ""
             }
            },
            "type": "scatterpolar"
           }
          ],
          "scatterpolargl": [
           {
            "marker": {
             "colorbar": {
              "outlinewidth": 0,
              "ticks": ""
             }
            },
            "type": "scatterpolargl"
           }
          ],
          "scatterternary": [
           {
            "marker": {
             "colorbar": {
              "outlinewidth": 0,
              "ticks": ""
             }
            },
            "type": "scatterternary"
           }
          ],
          "surface": [
           {
            "colorbar": {
             "outlinewidth": 0,
             "ticks": ""
            },
            "colorscale": [
             [
              0,
              "#0d0887"
             ],
             [
              0.1111111111111111,
              "#46039f"
             ],
             [
              0.2222222222222222,
              "#7201a8"
             ],
             [
              0.3333333333333333,
              "#9c179e"
             ],
             [
              0.4444444444444444,
              "#bd3786"
             ],
             [
              0.5555555555555556,
              "#d8576b"
             ],
             [
              0.6666666666666666,
              "#ed7953"
             ],
             [
              0.7777777777777778,
              "#fb9f3a"
             ],
             [
              0.8888888888888888,
              "#fdca26"
             ],
             [
              1,
              "#f0f921"
             ]
            ],
            "type": "surface"
           }
          ],
          "table": [
           {
            "cells": {
             "fill": {
              "color": "#EBF0F8"
             },
             "line": {
              "color": "white"
             }
            },
            "header": {
             "fill": {
              "color": "#C8D4E3"
             },
             "line": {
              "color": "white"
             }
            },
            "type": "table"
           }
          ]
         },
         "layout": {
          "annotationdefaults": {
           "arrowcolor": "#2a3f5f",
           "arrowhead": 0,
           "arrowwidth": 1
          },
          "autotypenumbers": "strict",
          "coloraxis": {
           "colorbar": {
            "outlinewidth": 0,
            "ticks": ""
           }
          },
          "colorscale": {
           "diverging": [
            [
             0,
             "#8e0152"
            ],
            [
             0.1,
             "#c51b7d"
            ],
            [
             0.2,
             "#de77ae"
            ],
            [
             0.3,
             "#f1b6da"
            ],
            [
             0.4,
             "#fde0ef"
            ],
            [
             0.5,
             "#f7f7f7"
            ],
            [
             0.6,
             "#e6f5d0"
            ],
            [
             0.7,
             "#b8e186"
            ],
            [
             0.8,
             "#7fbc41"
            ],
            [
             0.9,
             "#4d9221"
            ],
            [
             1,
             "#276419"
            ]
           ],
           "sequential": [
            [
             0,
             "#0d0887"
            ],
            [
             0.1111111111111111,
             "#46039f"
            ],
            [
             0.2222222222222222,
             "#7201a8"
            ],
            [
             0.3333333333333333,
             "#9c179e"
            ],
            [
             0.4444444444444444,
             "#bd3786"
            ],
            [
             0.5555555555555556,
             "#d8576b"
            ],
            [
             0.6666666666666666,
             "#ed7953"
            ],
            [
             0.7777777777777778,
             "#fb9f3a"
            ],
            [
             0.8888888888888888,
             "#fdca26"
            ],
            [
             1,
             "#f0f921"
            ]
           ],
           "sequentialminus": [
            [
             0,
             "#0d0887"
            ],
            [
             0.1111111111111111,
             "#46039f"
            ],
            [
             0.2222222222222222,
             "#7201a8"
            ],
            [
             0.3333333333333333,
             "#9c179e"
            ],
            [
             0.4444444444444444,
             "#bd3786"
            ],
            [
             0.5555555555555556,
             "#d8576b"
            ],
            [
             0.6666666666666666,
             "#ed7953"
            ],
            [
             0.7777777777777778,
             "#fb9f3a"
            ],
            [
             0.8888888888888888,
             "#fdca26"
            ],
            [
             1,
             "#f0f921"
            ]
           ]
          },
          "colorway": [
           "#636efa",
           "#EF553B",
           "#00cc96",
           "#ab63fa",
           "#FFA15A",
           "#19d3f3",
           "#FF6692",
           "#B6E880",
           "#FF97FF",
           "#FECB52"
          ],
          "font": {
           "color": "#2a3f5f"
          },
          "geo": {
           "bgcolor": "white",
           "lakecolor": "white",
           "landcolor": "#E5ECF6",
           "showlakes": true,
           "showland": true,
           "subunitcolor": "white"
          },
          "hoverlabel": {
           "align": "left"
          },
          "hovermode": "closest",
          "mapbox": {
           "style": "light"
          },
          "paper_bgcolor": "white",
          "plot_bgcolor": "#E5ECF6",
          "polar": {
           "angularaxis": {
            "gridcolor": "white",
            "linecolor": "white",
            "ticks": ""
           },
           "bgcolor": "#E5ECF6",
           "radialaxis": {
            "gridcolor": "white",
            "linecolor": "white",
            "ticks": ""
           }
          },
          "scene": {
           "xaxis": {
            "backgroundcolor": "#E5ECF6",
            "gridcolor": "white",
            "gridwidth": 2,
            "linecolor": "white",
            "showbackground": true,
            "ticks": "",
            "zerolinecolor": "white"
           },
           "yaxis": {
            "backgroundcolor": "#E5ECF6",
            "gridcolor": "white",
            "gridwidth": 2,
            "linecolor": "white",
            "showbackground": true,
            "ticks": "",
            "zerolinecolor": "white"
           },
           "zaxis": {
            "backgroundcolor": "#E5ECF6",
            "gridcolor": "white",
            "gridwidth": 2,
            "linecolor": "white",
            "showbackground": true,
            "ticks": "",
            "zerolinecolor": "white"
           }
          },
          "shapedefaults": {
           "line": {
            "color": "#2a3f5f"
           }
          },
          "ternary": {
           "aaxis": {
            "gridcolor": "white",
            "linecolor": "white",
            "ticks": ""
           },
           "baxis": {
            "gridcolor": "white",
            "linecolor": "white",
            "ticks": ""
           },
           "bgcolor": "#E5ECF6",
           "caxis": {
            "gridcolor": "white",
            "linecolor": "white",
            "ticks": ""
           }
          },
          "title": {
           "x": 0.05
          },
          "xaxis": {
           "automargin": true,
           "gridcolor": "white",
           "linecolor": "white",
           "ticks": "",
           "title": {
            "standoff": 15
           },
           "zerolinecolor": "white",
           "zerolinewidth": 2
          },
          "yaxis": {
           "automargin": true,
           "gridcolor": "white",
           "linecolor": "white",
           "ticks": "",
           "title": {
            "standoff": 15
           },
           "zerolinecolor": "white",
           "zerolinewidth": 2
          }
         }
        },
        "title": {
         "text": "Dispersión de Clusters (Alcohol vs Calidad)"
        },
        "xaxis": {
         "anchor": "y",
         "domain": [
          0,
          1
         ],
         "title": {
          "text": "alcohol"
         }
        },
        "yaxis": {
         "anchor": "x",
         "domain": [
          0,
          1
         ],
         "title": {
          "text": "quality"
         }
        }
       }
      }
     },
     "metadata": {},
     "output_type": "display_data"
    }
   ],
   "source": [
    "# Gráfico de dispersión de clusters con Matplotlib\n",
    "plt.figure(figsize=(10,6))\n",
    "for cluster in df['cluster'].unique():\n",
    "    subset = df[df['cluster'] == cluster]\n",
    "    plt.scatter(subset['alcohol'], subset['quality'], label=f'Cluster {cluster}', alpha=0.6)\n",
    "plt.xlabel('Alcohol')\n",
    "plt.ylabel('Calidad')\n",
    "plt.title('Dispersión de Clusters por Alcohol y Calidad')\n",
    "plt.legend()\n",
    "plt.show()\n",
    "\n",
    "# Gráfico de dispersión interactivo de clusters con Plotly\n",
    "import plotly.express as px\n",
    "fig = px.scatter(df, x='alcohol', y='quality', color='cluster', title='Dispersión de Clusters (Alcohol vs Calidad)', labels={'cluster':'Cluster'})\n",
    "fig.show()"
   ]
  }
 ],
 "metadata": {
  "kernelspec": {
   "display_name": ".visual (3.13.0)",
   "language": "python",
   "name": "python3"
  },
  "language_info": {
   "codemirror_mode": {
    "name": "ipython",
    "version": 3
   },
   "file_extension": ".py",
   "mimetype": "text/x-python",
   "name": "python",
   "nbconvert_exporter": "python",
   "pygments_lexer": "ipython3",
   "version": "3.13.0"
  }
 },
 "nbformat": 4,
 "nbformat_minor": 5
}
